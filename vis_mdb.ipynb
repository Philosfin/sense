{
 "cells": [
  {
   "cell_type": "code",
   "execution_count": null,
   "metadata": {},
   "outputs": [],
   "source": [
    "import config\n",
    "from pymongo import MongoClient\n",
    "from pymongo.server_api import ServerApi\n",
    "import pprint\n",
    "import json\n",
    "import json_flatten\n",
    "import numpy as np\n",
    "import pandas as pd\n",
    "#import altair as alt\n",
    "#import xmltodict\n",
    "from pandas import json_normalize\n",
    "#import urllib.request\n",
    "import seaborn as sns\n",
    "import matplotlib\n",
    "from matplotlib.figure import Figure\n"
   ]
  },
  {
   "attachments": {},
   "cell_type": "markdown",
   "metadata": {},
   "source": [
    "Connect to database"
   ]
  },
  {
   "cell_type": "code",
   "execution_count": null,
   "metadata": {},
   "outputs": [],
   "source": [
    "client = MongoClient(uri)\n",
    "try:\n",
    "    print(\"Connected to MongoDB Atlas successfully\")\n",
    "    print(client.server_info())\n",
    "except:  # Exception:\n",
    "    print(\"Unable to connect to MongoDB.\")\n"
   ]
  },
  {
   "attachments": {},
   "cell_type": "markdown",
   "metadata": {},
   "source": [
    "Access MDB documents Using the API"
   ]
  },
  {
   "cell_type": "code",
   "execution_count": null,
   "metadata": {},
   "outputs": [],
   "source": [
    "\"\"\" import requests\n",
    "import json\n",
    "url = \"https://eu-west-1.aws.data.mongodb-api.com/app/data-sqklv/endpoint/data/v1/action/findOne\"\n",
    "\n",
    "payload = json.dumps({\n",
    "    \"collection\": \"sensenv\",\n",
    "    \"database\": \"test\",\n",
    "    \"dataSource\": \"Cluster0\",\n",
    "#    \"projection\": {\n",
    "        #\"_id\": 1\n",
    "#    }\n",
    "})\n",
    "headers = {\n",
    "    'Content-Type': 'application/json',\n",
    "    'Access-Control-Request-Headers': '*',\n",
    "    'api_key': 'API_KEY'  #< API_KEY > ,\n",
    "}\n",
    "\n",
    "response = requests.request(\"POST\", url, headers=headers, data=payload)\n",
    "\n",
    "print(response.text)\n",
    " \"\"\"\n"
   ]
  },
  {
   "attachments": {},
   "cell_type": "markdown",
   "metadata": {},
   "source": [
    "Accessing documents using the MDB drivers"
   ]
  },
  {
   "cell_type": "code",
   "execution_count": null,
   "metadata": {},
   "outputs": [],
   "source": [
    "\"\"\" db = client.test \n",
    "coll = db.sensenv\n",
    "select_docs = {\"$match\": {\"mbar\":{\"$gt\":989.01}}}\n",
    "separate_by_status_calc_avg_temp = {\n",
    "    \"$group\":{\"_id\":\"$Therm_status\", \"avg_temp\":{\"$min\":\"$degree C\"}}\n",
    "} \n",
    "pipeline = [select_docs, separate_by_status_calc_avg_temp,]\n",
    "results = coll.aggregate(pipeline)\n",
    "print()\n",
    "print(\"Average temperature per thermal status\", \"\\n\")\n",
    "for item in results:\n",
    "    pprint.pprint(item)\n",
    "client.close()\n",
    " \"\"\"\n"
   ]
  },
  {
   "attachments": {},
   "cell_type": "markdown",
   "metadata": {},
   "source": []
  },
  {
   "cell_type": "code",
   "execution_count": null,
   "metadata": {},
   "outputs": [],
   "source": []
  },
  {
   "attachments": {},
   "cell_type": "markdown",
   "metadata": {},
   "source": [
    "Aggregation Pipeline"
   ]
  },
  {
   "cell_type": "code",
   "execution_count": null,
   "metadata": {},
   "outputs": [],
   "source": [
    "db = client.test\n",
    "coll = db.sensenv\n",
    "select_accel = {\"$match\": {\"mbar\": {\"$gt\": 989.01}}}\n",
    "sort_from_latest = {\"$sort\": {\"Last_Updated_Time\": -1}}\n",
    "#separate_by_status_calc_avg_temp = {\n",
    "#    \"$group\": {\"_id\": \"$Therm_status\", \"avg_temp\": {\"$min\": \"$degree C\"}}\n",
    "#}\n",
    "specified_fields = {\n",
    "    \"$project\": {\n",
    "        \"X\": 1,\n",
    "        \"Y\": 1,\n",
    "        \"Z\": 1,\n",
    "        \"degree C\": 1,\n",
    "        \"%RH\": 1,\n",
    "        \"_id\": 0,\n",
    "    }\n",
    "}\n",
    "#pipeline = [select_accel, separate_by_status_calc_avg_temp, specified_fields]\n",
    "pipeline = [select_accel, sort_from_latest, specified_fields,]\n",
    "results = coll.aggregate(pipeline)\n",
    "print()\n",
    "print(\"Sensed parameters above 1 atm\", \"\\n\")\n",
    "docs = []\n",
    "for i in results:\n",
    "    pprint.pprint(i)\n",
    "    docs += i\n",
    "client.close()\n"
   ]
  }
 ],
 "metadata": {
  "kernelspec": {
   "display_name": "base",
   "language": "python",
   "name": "python3"
  },
  "language_info": {
   "name": "python",
   "version": "3.9.16"
  },
  "orig_nbformat": 4
 },
 "nbformat": 4,
 "nbformat_minor": 2
}
